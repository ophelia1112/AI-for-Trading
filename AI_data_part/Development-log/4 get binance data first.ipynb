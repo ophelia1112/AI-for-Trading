{
 "cells": [
  {
   "cell_type": "code",
   "execution_count": null,
   "id": "initial_id",
   "metadata": {
    "collapsed": true
   },
   "outputs": [],
   "source": "# Get the API of binance"
  },
  {
   "metadata": {},
   "cell_type": "markdown",
   "source": [
    "Get the API key and secret\n",
    "\n",
    "(1) how: login into binance and enter in API management to generate API key and serect, saving them into .env documents(execute \"nano .env\" in terminal)\n",
    "\n",
    "(2) privacy: set your private IP to access binance API(get your personal IP address use \"ipconfig\"  in windows or \"curl ifconfig.me\" in MAC system commands in terminal, can also use \"curl -4 ifconfig.me\" to get IPV4 address if web doesn't support IPV6 address)\n",
    "\n",
    "(3) save API key and secret: install python-dotenv and use \"touch .env\" in terminal to create a folder to save env documents, then use \"binance_key=os.getenv(\"binance_key\")\" in pycharm to get the key and serect\n"
   ],
   "id": "ecbc964209eb3591"
  },
  {
   "metadata": {},
   "cell_type": "code",
   "outputs": [],
   "execution_count": null,
   "source": "# Get binance dqta",
   "id": "d1e6b730330d623f"
  },
  {
   "metadata": {},
   "cell_type": "markdown",
   "source": "I get binance in my code \"\"",
   "id": "d07d88466409ee52"
  }
 ],
 "metadata": {
  "kernelspec": {
   "display_name": "Python 3",
   "language": "python",
   "name": "python3"
  },
  "language_info": {
   "codemirror_mode": {
    "name": "ipython",
    "version": 2
   },
   "file_extension": ".py",
   "mimetype": "text/x-python",
   "name": "python",
   "nbconvert_exporter": "python",
   "pygments_lexer": "ipython2",
   "version": "2.7.6"
  }
 },
 "nbformat": 4,
 "nbformat_minor": 5
}
