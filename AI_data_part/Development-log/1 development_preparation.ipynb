{
 "cells": [
  {
   "cell_type": "code",
   "execution_count": null,
   "id": "initial_id",
   "metadata": {
    "collapsed": true
   },
   "outputs": [],
   "source": "# AI-for-Trading"
  },
  {
   "metadata": {},
   "cell_type": "code",
   "outputs": [],
   "execution_count": null,
   "source": "# AI-Structure",
   "id": "82d6349e44f6c16a"
  },
  {
   "metadata": {},
   "cell_type": "markdown",
   "source": "My idea is to develop an AI product for financial trading, and my idea structure is the content below.\n",
   "id": "6210785cddd204b8"
  },
  {
   "metadata": {},
   "cell_type": "markdown",
   "source": [
    "AI structure\n",
    "\n",
    "1 Data layer\n",
    "\n",
    "(1) Main data source: market trading data(for example, binance data) + market sentiment data(for example, X) + macroeconomic data\n",
    "\n",
    "(2) Data storage: in the cloud(AWS RDS)\n",
    "\n",
    "(3) Data preprocession\n",
    "\n",
    "2 AI and analytics layer\n",
    "\n",
    "(1) NLP: Transformers + SpaCy + NLTK\n",
    "\n",
    "(2) Data analysis and prediction: Scikit-learn + TensorFlow + PyTorch\n",
    "\n",
    "(3) Investment strategies recommendation\n",
    "\n",
    "3 Interaction and decision layer\n",
    "\n",
    "(1) UI: web+mobile(React + Vue.js + Flutter + FastAPI + Django + Flask)\n",
    "\n",
    "(2) Operation methods: buttons / commands / auto purchase(CCXT + IB API)\n",
    "\n",
    "(3) Notification system: SMS / Email\n",
    "\n",
    "4 Execution layer\n",
    "\n",
    "(1) Auto trading engine: API + Account order management + Automated strategies execution\n",
    "\n",
    "The execution layer targets on two different kinds of trade, including long-term projects and short-term projects, and the auto trading function is for short-term projects which can help to execute faster\n",
    "\n",
    "(2) Risk control: Account fund protection + VAR + MDD + Trading log\n",
    "\n",
    "5 Monitoring and feedback layer\n",
    "\n",
    "(1) PNL + MDD + Win rate analysis\n",
    "\n",
    "(2) Model tuning"
   ],
   "id": "6cf8855e1e80e57f"
  }
 ],
 "metadata": {
  "kernelspec": {
   "display_name": "Python 3",
   "language": "python",
   "name": "python3"
  },
  "language_info": {
   "codemirror_mode": {
    "name": "ipython",
    "version": 2
   },
   "file_extension": ".py",
   "mimetype": "text/x-python",
   "name": "python",
   "nbconvert_exporter": "python",
   "pygments_lexer": "ipython2",
   "version": "2.7.6"
  }
 },
 "nbformat": 4,
 "nbformat_minor": 5
}
