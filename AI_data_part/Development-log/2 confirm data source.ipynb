{
 "cells": [
  {
   "cell_type": "code",
   "execution_count": null,
   "id": "initial_id",
   "metadata": {
    "collapsed": true
   },
   "outputs": [],
   "source": [
    "# First step\n",
    "# confirm data source"
   ]
  },
  {
   "metadata": {},
   "cell_type": "markdown",
   "source": [
    "trading market data\n",
    "\n",
    "(1) Exchange data: binance, coinbase, OKX, upbit...(depending on the goodness of fit for AI models to add or reduce data)\n",
    "\n",
    "(2) Market sentiment data: X, reddit, StockTwits, news...\n",
    "\n",
    "(3) Macroeconomic data\n",
    "\n",
    "(4) Blockchain data: from SOL(Raydium、Jupiter), ETH(Uniswap、Base(L2)), BTC(Magic eden)\n"
   ],
   "id": "9cf7b573c2d28e07"
  },
  {
   "metadata": {},
   "cell_type": "markdown",
   "source": [
    "wallets\n",
    "\n",
    "(1) OKX\n",
    "\n",
    "(2) Magic Eden\n",
    "\n",
    "(3) MetaMask\n",
    "\n",
    "(4) Phantom\n"
   ],
   "id": "eba3d1261c3b1c48"
  },
  {
   "metadata": {},
   "cell_type": "markdown",
   "source": [
    "The basic data for minimum viable product(MVP)\n",
    "\n",
    "(1) Binance\n",
    "\n",
    "(2) X\n",
    "\n",
    "(3) CoinDesk"
   ],
   "id": "5644ad8deeda0a1a"
  },
  {
   "metadata": {},
   "cell_type": "markdown",
   "source": "",
   "id": "f0ba046cb2791646"
  }
 ],
 "metadata": {
  "kernelspec": {
   "display_name": "Python 3",
   "language": "python",
   "name": "python3"
  },
  "language_info": {
   "codemirror_mode": {
    "name": "ipython",
    "version": 2
   },
   "file_extension": ".py",
   "mimetype": "text/x-python",
   "name": "python",
   "nbconvert_exporter": "python",
   "pygments_lexer": "ipython2",
   "version": "2.7.6"
  }
 },
 "nbformat": 4,
 "nbformat_minor": 5
}
